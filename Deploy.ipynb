{
 "cells": [
  {
   "cell_type": "code",
   "execution_count": 4,
   "metadata": {},
   "outputs": [],
   "source": [
    "import pandas as pd\n",
    "import numpy as np\n",
    "import pickle\n",
    "df=pd.read_csv(\"GAFA Stock Prices.csv\")\n",
    "df = df[np.isfinite(df['Close'])]"
   ]
  },
  {
   "cell_type": "code",
   "execution_count": 7,
   "metadata": {},
   "outputs": [],
   "source": [
    "def someFun(cname,op,hi,lo):\n",
    "    if(cname==\"Google\"):\n",
    "        file=open(\"GoogleLR\",\"rb\")\n",
    "    elif (cname==\"Apple\"):\n",
    "        file=open(\"AppleLR\",\"rb\")\n",
    "    elif (cname==\"Facebook\"):\n",
    "        file=open(\"FacebookLR\",\"rb\")\n",
    "    elif (cname==\"Amazon\"):\n",
    "        file=open(\"AmazonLR\",\"rb\")\n",
    "    clf=pickle.load(file)\n",
    "    y_pred=clf.predict([[float(op),float(hi),float(lo)]])\n",
    "    print(y_pred)\n",
    "    file.close()"
   ]
  },
  {
   "cell_type": "code",
   "execution_count": 8,
   "metadata": {},
   "outputs": [
    {
     "name": "stdout",
     "output_type": "stream",
     "text": [
      "[2.02347006]\n"
     ]
    }
   ],
   "source": [
    "someFun(\"Google\",\"2.4375\",\"2.5\",\"1.927083\")"
   ]
  },
  {
   "cell_type": "code",
   "execution_count": null,
   "metadata": {},
   "outputs": [],
   "source": []
  }
 ],
 "metadata": {
  "kernelspec": {
   "display_name": "Python 3",
   "language": "python",
   "name": "python3"
  },
  "language_info": {
   "codemirror_mode": {
    "name": "ipython",
    "version": 3
   },
   "file_extension": ".py",
   "mimetype": "text/x-python",
   "name": "python",
   "nbconvert_exporter": "python",
   "pygments_lexer": "ipython3",
   "version": "3.7.3"
  }
 },
 "nbformat": 4,
 "nbformat_minor": 2
}
